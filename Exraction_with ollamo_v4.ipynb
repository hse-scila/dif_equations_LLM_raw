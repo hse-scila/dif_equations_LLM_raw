{
 "cells": [
  {
   "cell_type": "code",
   "execution_count": null,
   "id": "bdff0478-eeed-4f09-8dbc-65a505c4cfdb",
   "metadata": {},
   "outputs": [],
   "source": []
  },
  {
   "cell_type": "code",
   "execution_count": 1,
   "id": "2ef8aaf3-ee7a-466f-87c3-de0460b43d83",
   "metadata": {
    "scrolled": true
   },
   "outputs": [
    {
     "name": "stderr",
     "output_type": "stream",
     "text": [
      "Обработка примеров:   0%|                                                                 | 0/1709 [00:00<?, ?пример/s]"
     ]
    },
    {
     "name": "stdout",
     "output_type": "stream",
     "text": [
      "📦 Загруженные модели в Ollama:\n",
      "  - nomic-embed-text:latest (size: 274302450, modified: 2025-06-05 19:05:05.791478+03:00)\n",
      "  - deepseek-r1:14b (size: 8988112209, modified: 2025-06-02 14:40:21.868115+03:00)\n",
      "  - qwen2.5:latest (size: 4683087332, modified: 2025-05-29 18:17:21.963823+03:00)\n",
      "  - llama3.2:1b (size: 1321098329, modified: 2025-04-15 16:46:59.121711+03:00)\n",
      "  - gemma3:1b (size: 815319791, modified: 2025-04-15 16:36:59.620343+03:00)\n",
      "  - cogito:3b (size: 2241013645, modified: 2025-04-09 20:51:29.521689+03:00)\n",
      "  - deepseek-r1:1.5b (size: 1117322599, modified: 2025-04-04 15:20:36.186802+03:00)\n",
      "  - llama3.2:latest (size: 2019393189, modified: 2025-04-04 14:26:14.639084+03:00)\n"
     ]
    },
    {
     "name": "stderr",
     "output_type": "stream",
     "text": [
      "Обработка примеров:   0%|                                                       | 1/1709 [00:06<3:11:14,  6.72s/пример]"
     ]
    },
    {
     "name": "stdout",
     "output_type": "stream",
     "text": [
      "\n",
      "🔢 Пример 1\n",
      "📄 Тип уравнения: homogenous 3nd order\n",
      "✅ Истинный ответ (нормализованный): Ce^{-8x}+Ce^{-10x}+Ce^{-3x}\n",
      "🧠 Извлечённый ответ (нормализованный): Ce^{-4x}+Ce^{-5x}+Ce^{-12x}\n",
      "📊 BLEU: 0.7093\n"
     ]
    },
    {
     "name": "stderr",
     "output_type": "stream",
     "text": [
      "Обработка примеров:   6%|███▏                                                 | 101/1709 [05:57<1:03:36,  2.37s/пример]"
     ]
    },
    {
     "name": "stdout",
     "output_type": "stream",
     "text": [
      "\n",
      "🔢 Пример 101\n",
      "📄 Тип уравнения: homogenous 3nd order\n",
      "✅ Истинный ответ (нормализованный): Ce^{-1x}+Ce^{-4x}+Ce^{-6x}\n",
      "🧠 Извлечённый ответ (нормализованный): Ce^{-x}+Ce^{-4x}+Ce^{-6x}\n",
      "📊 BLEU: 0.8986\n"
     ]
    },
    {
     "name": "stderr",
     "output_type": "stream",
     "text": [
      "Обработка примеров:  12%|██████▏                                              | 201/1709 [16:25<3:06:52,  7.44s/пример]"
     ]
    },
    {
     "name": "stdout",
     "output_type": "stream",
     "text": [
      "\n",
      "🔢 Пример 201\n",
      "📄 Тип уравнения: homogenous 3nd order\n",
      "✅ Истинный ответ (нормализованный): Ce^{3x}+Ce^{5x}+Ce^{-8x}\n",
      "🧠 Извлечённый ответ (нормализованный): C+Ce^{40x}+Ce^{9x}\n",
      "📊 BLEU: 0.4292\n"
     ]
    },
    {
     "name": "stderr",
     "output_type": "stream",
     "text": [
      "Обработка примеров:  18%|█████████▎                                           | 301/1709 [28:49<2:52:37,  7.36s/пример]"
     ]
    },
    {
     "name": "stdout",
     "output_type": "stream",
     "text": [
      "\n",
      "🔢 Пример 301\n",
      "📄 Тип уравнения: homogenous 2nd order\n",
      "✅ Истинный ответ (нормализованный): Ce^{38x}+Ce^{41x}\n",
      "🧠 Извлечённый ответ (нормализованный): Ce^{41x}+Ce^{38x}\n",
      "📊 BLEU: 0.9829\n"
     ]
    },
    {
     "name": "stderr",
     "output_type": "stream",
     "text": [
      "Обработка примеров:  23%|███████████▉                                       | 401/1709 [1:26:12<2:31:25,  6.95s/пример]"
     ]
    },
    {
     "name": "stdout",
     "output_type": "stream",
     "text": [
      "\n",
      "🔢 Пример 401\n",
      "📄 Тип уравнения: homogenous 3nd order\n",
      "✅ Истинный ответ (нормализованный): Ce^{7x}+Ce^{5x}+Ce^{-2x}\n",
      "🧠 Извлечённый ответ (нормализованный): Ce^{-2x}+Ce^{5x}+Ce^{7x}\n",
      "📊 BLEU: 0.9884\n"
     ]
    },
    {
     "name": "stderr",
     "output_type": "stream",
     "text": [
      "Обработка примеров:  29%|██████████████▉                                    | 501/1709 [1:42:05<1:52:40,  5.60s/пример]"
     ]
    },
    {
     "name": "stdout",
     "output_type": "stream",
     "text": [
      "\n",
      "🔢 Пример 501\n",
      "📄 Тип уравнения: separable variables\n",
      "✅ Истинный ответ (нормализованный): \\sxx(2\\cxxxx)\\cxxx\\fxxx{1}{\\cxx(x)}-\\cxx(x)\\cxxxe^{x}+C\n",
      "🧠 Извлечённый ответ (нормализованный): 2\\lx|\\sex(x)|+4\\sxx(x)-2x+C\n",
      "📊 BLEU: 0.1400\n"
     ]
    },
    {
     "name": "stderr",
     "output_type": "stream",
     "text": [
      "Обработка примеров:  35%|█████████████████▉                                 | 601/1709 [1:53:53<1:59:57,  6.50s/пример]"
     ]
    },
    {
     "name": "stdout",
     "output_type": "stream",
     "text": [
      "\n",
      "🔢 Пример 601\n",
      "📄 Тип уравнения: homogenous 2nd order\n",
      "✅ Истинный ответ (нормализованный): Ce^{22x}+Ce^{-5x}\n",
      "🧠 Извлечённый ответ (нормализованный): Ce^{22x}+Ce^{-5x}\n",
      "📊 BLEU: 1.0000\n"
     ]
    },
    {
     "name": "stderr",
     "output_type": "stream",
     "text": [
      "Обработка примеров:  41%|████████████████████▉                              | 701/1709 [2:23:14<1:48:35,  6.46s/пример]"
     ]
    },
    {
     "name": "stdout",
     "output_type": "stream",
     "text": [
      "\n",
      "🔢 Пример 701\n",
      "📄 Тип уравнения: inhomogenous 2nd order\n",
      "✅ Истинный ответ (нормализованный): x{\\lexx(x\\rxxxx)}=C\\sxx{\\lexx(2x\\rxxxx)}+C\\cxx{\\lexx(2x\\rxxxx)}-\\fxxx{x}{2}\n",
      "🧠 Извлечённый ответ (нормализованный): x_1e^{2x}+x_2xe^{2x}+\\fxxx{1}{2}x\n",
      "📊 BLEU: 0.0897\n"
     ]
    },
    {
     "name": "stderr",
     "output_type": "stream",
     "text": [
      "Обработка примеров:  47%|███████████████████████▉                           | 801/1709 [2:36:40<1:45:29,  6.97s/пример]"
     ]
    },
    {
     "name": "stdout",
     "output_type": "stream",
     "text": [
      "\n",
      "🔢 Пример 801\n",
      "📄 Тип уравнения: homogenous 3nd order\n",
      "✅ Истинный ответ (нормализованный): Ce^{-5x}+Ce^{3x}+Ce^{-3x}\n",
      "🧠 Извлечённый ответ (нормализованный): Ce^{3x}+Ce^{-3x}+Ce^{-5x}\n",
      "📊 BLEU: 0.9889\n"
     ]
    },
    {
     "name": "stderr",
     "output_type": "stream",
     "text": [
      "Обработка примеров:  53%|██████████████████████████▉                        | 901/1709 [3:34:18<1:19:17,  5.89s/пример]"
     ]
    },
    {
     "name": "stdout",
     "output_type": "stream",
     "text": [
      "\n",
      "🔢 Пример 901\n",
      "📄 Тип уравнения: inhomogenous 2nd order\n",
      "✅ Истинный ответ (нормализованный): x{\\lexx(x\\rxxxx)}=C\\sxx{\\lexx(\\fxxx{\\sxxx{5}x}{5}\\rxxxx)}+C\\cxx{\\lexx(\\fxxx{\\sxxx{5}x}{5}\\rxxxx)}-x^{3}+30x\n",
      "🧠 Извлечённый ответ (нормализованный): C\\cxx\\lexx(\\fxxx{x}{\\sxxx{5}}\\rxxxx)+C\\sxx\\lexx(\\fxxx{x}{\\sxxx{5}}\\rxxxx)-x^3+30x\n",
      "📊 BLEU: 0.5702\n"
     ]
    },
    {
     "name": "stderr",
     "output_type": "stream",
     "text": [
      "Обработка примеров:  59%|█████████████████████████████▎                    | 1001/1709 [3:46:16<1:11:36,  6.07s/пример]"
     ]
    },
    {
     "name": "stdout",
     "output_type": "stream",
     "text": [
      "\n",
      "🔢 Пример 1001\n",
      "📄 Тип уравнения: homogenous 3nd order\n",
      "✅ Истинный ответ (нормализованный): Ce^{4x}+Ce^{-9x}+C\n",
      "🧠 Извлечённый ответ (нормализованный): C+Ce^{4x}+Ce^{-9x}\n",
      "📊 BLEU: 0.9241\n"
     ]
    },
    {
     "name": "stderr",
     "output_type": "stream",
     "text": [
      "Обработка примеров:  64%|█████████████████████████████████▌                  | 1101/1709 [3:57:26<51:18,  5.06s/пример]"
     ]
    },
    {
     "name": "stdout",
     "output_type": "stream",
     "text": [
      "\n",
      "🔢 Пример 1101\n",
      "📄 Тип уравнения: homogenous 3nd order\n",
      "✅ Истинный ответ (нормализованный): Ce^{-2x}+Ce^{1x}+Ce^{-9x}\n",
      "🧠 Извлечённый ответ (нормализованный): Ce^x+Ce^{-2x}+Ce^{-9x}\n",
      "📊 BLEU: 0.7753\n"
     ]
    },
    {
     "name": "stderr",
     "output_type": "stream",
     "text": [
      "Обработка примеров:  70%|███████████████████████████████████▏              | 1201/1709 [4:55:59<1:15:15,  8.89s/пример]"
     ]
    },
    {
     "name": "stdout",
     "output_type": "stream",
     "text": [
      "\n",
      "🔢 Пример 1201\n",
      "📄 Тип уравнения: homogenous 3nd order\n",
      "✅ Истинный ответ (нормализованный): Ce^{5x}+C+Ce^{6x}\n",
      "🧠 Извлечённый ответ (нормализованный): C+Ce^{5x}+Ce^{6x}\n",
      "📊 BLEU: 0.9494\n"
     ]
    },
    {
     "name": "stderr",
     "output_type": "stream",
     "text": [
      "Обработка примеров:  76%|███████████████████████████████████████▌            | 1301/1709 [5:54:19<50:16,  7.39s/пример]"
     ]
    },
    {
     "name": "stdout",
     "output_type": "stream",
     "text": [
      "\n",
      "🔢 Пример 1301\n",
      "📄 Тип уравнения: inhomogenous 2nd order\n",
      "✅ Истинный ответ (нормализованный): f{\\leff(f\\rffff)}=Ce^{\\ffff{f}{2}}+Ce^{f}-f^{3}-9f^{2}-42f-90\n",
      "🧠 Извлечённый ответ (нормализованный): Ce^{\\ffff{1}{2}f}+Ce^f-f^3-9f^2-42f-90\n",
      "📊 BLEU: 0.3634\n"
     ]
    },
    {
     "name": "stderr",
     "output_type": "stream",
     "text": [
      "Обработка примеров:  82%|██████████████████████████████████████████▋         | 1401/1709 [6:11:09<38:29,  7.50s/пример]"
     ]
    },
    {
     "name": "stdout",
     "output_type": "stream",
     "text": [
      "\n",
      "🔢 Пример 1401\n",
      "📄 Тип уравнения: inhomogenous 2nd order\n",
      "✅ Истинный ответ (нормализованный): f{\\leff(f\\rffff)}=-\\ffff{2f}{5}+\\leff(C\\sff{\\leff(\\ffff{\\sfff{21}f}{5}\\rffff)}+C\\cff{\\leff(\\ffff{\\sfff{21}f}{5}\\rffff)}\\rffff)e^{\\ffff{2f}{5}}-\\ffff{8}{25}\n",
      "🧠 Извлечённый ответ (нормализованный): Ce^{\\lfff(\\ffff{2+f\\sfff{21}}{5}\\rffff)f}+Ce^{\\lfff(\\ffff{2-f\\sfff{21}}{5}\\rffff)f}-\\ffff{2}{5}f-\\ffff{8}{25}\n",
      "📊 BLEU: 0.4930\n"
     ]
    },
    {
     "name": "stderr",
     "output_type": "stream",
     "text": [
      "Обработка примеров:  88%|█████████████████████████████████████████████▋      | 1501/1709 [6:22:52<20:37,  5.95s/пример]"
     ]
    },
    {
     "name": "stdout",
     "output_type": "stream",
     "text": [
      "\n",
      "🔢 Пример 1501\n",
      "📄 Тип уравнения: homogenous 3nd order\n",
      "✅ Истинный ответ (нормализованный): Ce^{6x}+Ce^{4x}+Ce^{-3x}\n",
      "🧠 Извлечённый ответ (нормализованный): Ce^{4x}+Ce^{6x}+Ce^{-3x}\n",
      "📊 BLEU: 1.0000\n"
     ]
    },
    {
     "name": "stderr",
     "output_type": "stream",
     "text": [
      "Обработка примеров:  94%|████████████████████████████████████████████████▋   | 1601/1709 [6:34:31<10:59,  6.11s/пример]"
     ]
    },
    {
     "name": "stdout",
     "output_type": "stream",
     "text": [
      "\n",
      "🔢 Пример 1601\n",
      "📄 Тип уравнения: homogenous 2nd order\n",
      "✅ Истинный ответ (нормализованный): Ce^{-24x}+Ce^{-17x}\n",
      "🧠 Извлечённый ответ (нормализованный): Ce^{-17x}+Ce^{-24x}\n",
      "📊 BLEU: 0.9850\n"
     ]
    },
    {
     "name": "stderr",
     "output_type": "stream",
     "text": [
      "Обработка примеров: 100%|███████████████████████████████████████████████████▊| 1701/1709 [6:46:06<00:52,  6.62s/пример]"
     ]
    },
    {
     "name": "stdout",
     "output_type": "stream",
     "text": [
      "\n",
      "🔢 Пример 1701\n",
      "📄 Тип уравнения: homogenous 2nd order\n",
      "✅ Истинный ответ (нормализованный): Ce^{28x}+Ce^{-38x}\n",
      "🧠 Извлечённый ответ (нормализованный): Ce^{28x}+Ce^{-38x}\n",
      "📊 BLEU: 1.0000\n"
     ]
    },
    {
     "name": "stderr",
     "output_type": "stream",
     "text": [
      "Обработка примеров: 100%|████████████████████████████████████████████████████| 1709/1709 [6:46:52<00:00, 14.28s/пример]"
     ]
    },
    {
     "name": "stdout",
     "output_type": "stream",
     "text": [
      "\n",
      "---\n",
      "🧠 Средний BLEU: 0.6034 на 1709 примерах\n",
      "\n",
      "💾 Результаты сохранены в ./Qwen_1_5b_inference_results_2000tok_balansed_results_ollama.json\n",
      "\n",
      "📊 Статистика по типам уравнений:\n",
      "\n",
      "🧩 Тип: homogenous 3nd order\n",
      "  Количество примеров: 341\n",
      "  Средний BLEU: 0.8225\n",
      "  Точные совпадения: 32 (9.38%)\n",
      "\n",
      "🧩 Тип: separable variables\n",
      "  Количество примеров: 342\n",
      "  Средний BLEU: 0.2527\n",
      "  Точные совпадения: 0 (0.00%)\n",
      "\n",
      "🧩 Тип: polynomial\n",
      "  Количество примеров: 342\n",
      "  Средний BLEU: 0.5466\n",
      "  Точные совпадения: 39 (11.40%)\n",
      "\n",
      "🧩 Тип: homogenous 2nd order\n",
      "  Количество примеров: 342\n",
      "  Средний BLEU: 0.9701\n",
      "  Точные совпадения: 148 (43.27%)\n",
      "\n",
      "🧩 Тип: inhomogenous 2nd order\n",
      "  Количество примеров: 342\n",
      "  Средний BLEU: 0.4258\n",
      "  Точные совпадения: 0 (0.00%)\n",
      "\n",
      "💾 Статистика по типам сохранена в ./Qwen_1_5b_inference_results_2000tok_balansed_stats_by_type.json\n"
     ]
    },
    {
     "name": "stderr",
     "output_type": "stream",
     "text": [
      "\n"
     ]
    }
   ],
   "source": [
    "import json\n",
    "import re\n",
    "from nltk.translate.bleu_score import sentence_bleu, SmoothingFunction\n",
    "import ollama\n",
    "from sympy import simplify\n",
    "from sympy.parsing.latex import parse_latex\n",
    "from tqdm import tqdm\n",
    "\n",
    "# Глобальная переменная для отслеживания вывода моделей\n",
    "_models_listed = False\n",
    "\n",
    "\n",
    "def extract_answer_with_ollama(generated_answer: str, model_name: str = \"llama3.2:latest\") -> str:\n",
    "    global _models_listed\n",
    "\n",
    "    # Показать список моделей при первом вызове\n",
    "    if not _models_listed:\n",
    "        try:\n",
    "            models = ollama.list()\n",
    "            print(\"📦 Загруженные модели в Ollama:\")\n",
    "            for m in models['models']:\n",
    "                # Используем 'model' вместо 'name'\n",
    "                model = m['model']\n",
    "                size = m.get('size', 'неизвестно')\n",
    "                modified = m.get('modified_at', 'неизвестно')\n",
    "                print(f\"  - {model} (size: {size}, modified: {modified})\")\n",
    "            _models_listed = True\n",
    "        except Exception as e:\n",
    "            print(f\"❌ Не удалось получить список моделей: {e}\")\n",
    "            _models_listed = True  # чтобы не повторять попытку\n",
    "\n",
    "    # Проверка на пустой ответ\n",
    "    if not generated_answer.strip():\n",
    "        return \"\"\n",
    "\n",
    "    prompt = f\"\"\"\n",
    "You are a mathematics assistant specialized in differential equations.\n",
    "Your task: extract the final solution expression from the provided reasoning.\n",
    "Follow these rules:\n",
    "\n",
    "- Prefer expressions inside \\\\boxed{{...}}, but extract the raw expression without the \\\\boxed{{}} itself.\n",
    "- If no \\\\boxed{{}} found, extract the last complete solution (such as y(x) = ...).\n",
    "- Do NOT generate or modify any math. Return exactly as found.\n",
    "- Preserve LaTeX formatting, but remove \\\\boxed{{}} if present.\n",
    "- Return only the solution expression, without any explanations.\n",
    "\n",
    "Text:\n",
    "\\\"\\\"\\\"\n",
    "{generated_answer}\n",
    "\\\"\\\"\\\"\n",
    "\n",
    "Final Solution:\n",
    "\"\"\"\n",
    "\n",
    "    try:\n",
    "        response = ollama.generate(model=model_name, prompt=prompt)\n",
    "        extracted_answer = response.get(\"response\", \"\").strip()\n",
    "        return clean_extracted_latex(extracted_answer)\n",
    "    except Exception as e:\n",
    "        print(f\"❌ Ошибка Ollama: {e}\")\n",
    "        return \"\"\n",
    "\n",
    "\n",
    "\n",
    "# ———————————————— Постобработка и нормализация ———————————————— #\n",
    "def clean_extracted_latex(extracted_answer: str) -> str:\n",
    "    if not extracted_answer:\n",
    "        return \"\"\n",
    "\n",
    "    result = extracted_answer.strip()\n",
    "\n",
    "    # Удаление LaTeX-окружений\n",
    "    result = re.sub(r'\\\\\\[|\\\\\\]', '', result)\n",
    "    result = re.sub(r'\\$\\$|\\$', '', result)\n",
    "    result = re.sub(r'\\\\boxed\\{([^{}]*)\\}', r'\\1', result)\n",
    "\n",
    "    # Удаление начального y(x)= или y= (с пробелами)\n",
    "    result = re.sub(r'^(y\\s*(\\([a-z]\\))?\\s*=)', '', result, flags=re.IGNORECASE)\n",
    "\n",
    "    # Удаление всех пробелов\n",
    "    result = re.sub(r'\\s+', '', result)\n",
    "\n",
    "    return result\n",
    "\n",
    "\n",
    "def normalize_latex_expression(latex_str: str, target_var: str = 'x') -> str:\n",
    "    if not latex_str:\n",
    "        return \"\"\n",
    "\n",
    "    # Унификация констант: C_{1}, C_1 → C\n",
    "    latex_str = re.sub(r'C(_\\{?\\d+\\}?)?', 'C', latex_str)\n",
    "\n",
    "    # Унификация переменных внутри экспонент e^{...}\n",
    "    def replace_exp_vars(m):\n",
    "        content = m.group(1)\n",
    "        replaced = re.sub(r'(?<![_\\\\])[a-zA-Z]', target_var, content)\n",
    "        return f\"e^{{{replaced}}}\"\n",
    "\n",
    "    latex_str = re.sub(r'e\\^\\{([^}]*)\\}', replace_exp_vars, latex_str)\n",
    "\n",
    "    # Унификация всех одиночных строчных переменных вне экспонент, исключая 'e'\n",
    "    def replace_vars(m):\n",
    "        ch = m.group(0)\n",
    "        if ch in ['C', 'K', 'A', 'e']:\n",
    "            return ch\n",
    "        return target_var\n",
    "\n",
    "    latex_str = re.sub(r'(?<![_\\\\])[a-z]', replace_vars, latex_str)\n",
    "\n",
    "    return latex_str\n",
    "\n",
    "\n",
    "def unify_constants_before_exponent(latex_str: str) -> str:\n",
    "    if not latex_str:\n",
    "        return \"\"\n",
    "    return re.sub(r'C(_\\{?\\d+\\}?)', 'C', latex_str)\n",
    "\n",
    "\n",
    "def tokenize_latex(text: str) -> list[str]:\n",
    "    return list(text.replace(' ', '').strip())\n",
    "\n",
    "\n",
    "# ———————————————— Символьное сравнение через SymPy ———————————————— #\n",
    "def are_expressions_symbolically_equivalent(expr1: str, expr2: str) -> bool:\n",
    "    try:\n",
    "        sym_expr1 = simplify(parse_latex(expr1))\n",
    "        sym_expr2 = simplify(parse_latex(expr2))\n",
    "        return sym_expr1.equals(sym_expr2)\n",
    "    except Exception as e:\n",
    "        print(f\"⚠️ Ошибка в символьном сравнении: {e}\")\n",
    "        return False\n",
    "\n",
    "\n",
    "# ———————————————— Основная функция оценки BLEU и эквивалентности ———————————————— #\n",
    "def evaluate_bleu_with_ollama(file_path: str, model_name: str = \"qwen2.5:latest\",\n",
    "                              limit=None, smoothing_method=2, verbose=True):\n",
    "    with open(file_path, \"r\", encoding=\"utf-8\") as f:\n",
    "        data = json.load(f)\n",
    "\n",
    "    if limit is not None:\n",
    "        data = data[:limit]\n",
    "\n",
    "    smoothing_function = SmoothingFunction().method2\n",
    "    output_results = []\n",
    "\n",
    "    for idx, item in enumerate(tqdm(data, desc=\"Обработка примеров\", unit=\"пример\")):\n",
    "    #for idx, item in enumerate(data):\n",
    "        true_answer = item.get(\"true_answer\", \"\").strip()\n",
    "        generated_answer = item.get(\"generated_answer\", \"\").strip()\n",
    "        problem = item.get(\"equation\") or item.get(\"problem\") or item.get(\"question\") or f\"example_{idx}\"\n",
    "        type_eq = item.get(\"type_eq\", \"\").strip()\n",
    "\n",
    "        if not true_answer or not generated_answer:\n",
    "            continue\n",
    "\n",
    "        extracted_answer = extract_answer_with_ollama(generated_answer, model_name)\n",
    "\n",
    "        if not extracted_answer:\n",
    "            output_results.append({\n",
    "                \"original_equation\": problem,\n",
    "                \"type_equation\": type_eq,\n",
    "                \"true_answer\": true_answer,\n",
    "                \"extracted_answer\": \"\",\n",
    "                \"bleu_score\": 0.0,\n",
    "                \"exact_match\": False\n",
    "            })\n",
    "            continue\n",
    "\n",
    "        # Определяем переменную для унификации (по экспоненте в истинном ответе)\n",
    "        target_var_match = re.search(r'e\\^\\{[^}]*?([a-zA-Z])[^}]*?\\}', true_answer)\n",
    "        target_var = target_var_match.group(1) if target_var_match else 'x'\n",
    "\n",
    "        true_normalized = normalize_latex_expression(clean_extracted_latex(true_answer), target_var=target_var)\n",
    "        extracted_normalized = normalize_latex_expression(clean_extracted_latex(extracted_answer), target_var=target_var)\n",
    "\n",
    "        # Активируем унификацию констант перед экспонентой\n",
    "        true_normalized = unify_constants_before_exponent(true_normalized)\n",
    "        extracted_normalized = unify_constants_before_exponent(extracted_normalized)\n",
    "\n",
    "        reference = [tokenize_latex(true_normalized)]\n",
    "        hypothesis = tokenize_latex(extracted_normalized)\n",
    "        bleu_score = sentence_bleu(reference, hypothesis, smoothing_function=smoothing_function)\n",
    "\n",
    "        is_exact_match = (true_normalized == extracted_normalized)\n",
    "\n",
    "        output_results.append({\n",
    "            \"original_equation\": problem,\n",
    "            \"type_equation\": type_eq,\n",
    "            \"true_answer\": true_normalized,\n",
    "            \"extracted_answer\": extracted_normalized,\n",
    "            \"bleu_score\": round(bleu_score, 4),\n",
    "            \"exact_match\": is_exact_match\n",
    "        })\n",
    "\n",
    "        #if verbose:\n",
    "        #    print(f\"\\n🔢 Пример {idx + 1}\")\n",
    "        #    print(f\"📄 Уравнение: {problem}\")\n",
    "        #    print(f\"📄 Тип уравнения: {type_eq}\")\n",
    "        #    print(f\"✅ Истинный ответ (нормализованный): {true_normalized}\")\n",
    "        #    print(f\"🧠 Извлечённый ответ (нормализованный): {extracted_normalized}\")\n",
    "        #    print(f\"📊 BLEU: {bleu_score:.4f}\")\n",
    "    \n",
    "        if verbose and idx % 100 == 0:  # Реже выводим детали\n",
    "            tqdm.write(f\"\\n🔢 Пример {idx + 1}\")\n",
    "            tqdm.write(f\"📄 Тип уравнения: {type_eq}\")\n",
    "            tqdm.write(f\"✅ Истинный ответ (нормализованный): {true_normalized}\")\n",
    "            tqdm.write(f\"🧠 Извлечённый ответ (нормализованный): {extracted_normalized}\")\n",
    "            tqdm.write(f\"📊 BLEU: {bleu_score:.4f}\")\n",
    "\n",
    "    total = len(output_results)\n",
    "    avg_bleu = sum([r[\"bleu_score\"] for r in output_results]) / total if total > 0 else 0\n",
    "\n",
    "    print(\"\\n---\")\n",
    "    print(f\"🧠 Средний BLEU: {avg_bleu:.4f} на {total} примерах\")\n",
    "\n",
    "    output_file = file_path.replace(\".json\", \"_results_ollama.json\")\n",
    "    with open(output_file, 'w', encoding='utf-8') as f:\n",
    "        json.dump(output_results, f, indent=2, ensure_ascii=False)\n",
    "    print(f\"\\n💾 Результаты сохранены в {output_file}\")\n",
    "\n",
    "    # Расчёт статистики по типам уравнений\n",
    "    calculate_stats_by_type(output_file)\n",
    "\n",
    "\n",
    "# ———————————————— Функция расчёта статистики по типам уравнений ———————————————— #\n",
    "def calculate_stats_by_type(results_file: str):\n",
    "    with open(results_file, \"r\", encoding=\"utf-8\") as f:\n",
    "        results = json.load(f)\n",
    "\n",
    "    stats = {}\n",
    "\n",
    "    for item in results:\n",
    "        eq_type = item[\"type_equation\"]\n",
    "        bleu_score = item[\"bleu_score\"]\n",
    "        exact_match = item[\"exact_match\"]\n",
    "\n",
    "        if eq_type not in stats:\n",
    "            stats[eq_type] = {\n",
    "                \"count\": 0,\n",
    "                \"total_bleu\": 0.0,\n",
    "                \"exact_matches\": 0\n",
    "            }\n",
    "\n",
    "        stats[eq_type][\"count\"] += 1\n",
    "        stats[eq_type][\"total_bleu\"] += bleu_score\n",
    "        if exact_match:\n",
    "            stats[eq_type][\"exact_matches\"] += 1\n",
    "\n",
    "    final_stats = {}\n",
    "    for eq_type, data in stats.items():\n",
    "        avg_bleu = data[\"total_bleu\"] / data[\"count\"]\n",
    "        exact_ratio = data[\"exact_matches\"] / data[\"count\"]\n",
    "        final_stats[eq_type] = {\n",
    "            \"count\": data[\"count\"],\n",
    "            \"avg_bleu\": round(avg_bleu, 4),\n",
    "            \"exact_matches\": data[\"exact_matches\"],\n",
    "            \"exact_ratio\": round(exact_ratio, 4)\n",
    "        }\n",
    "\n",
    "    print(\"\\n📊 Статистика по типам уравнений:\")\n",
    "    for eq_type, data in final_stats.items():\n",
    "        print(f\"\\n🧩 Тип: {eq_type}\")\n",
    "        print(f\"  Количество примеров: {data['count']}\")\n",
    "        print(f\"  Средний BLEU: {data['avg_bleu']:.4f}\")\n",
    "        print(f\"  Точные совпадения: {data['exact_matches']} ({data['exact_ratio']:.2%})\")\n",
    "\n",
    "    # Сохранение статистики в файл\n",
    "    stats_file = results_file.replace(\"_results_ollama.json\", \"_stats_by_type.json\")\n",
    "    with open(stats_file, 'w', encoding='utf-8') as f:\n",
    "        json.dump(final_stats, f, indent=2, ensure_ascii=False)\n",
    "    print(f\"\\n💾 Статистика по типам сохранена в {stats_file}\")\n",
    "\n",
    "\n",
    "# ———————————————— Запуск ———————————————— #\n",
    "if __name__ == \"__main__\":\n",
    "    file_path = r'./Qwen_1_5b_inference_results_2000tok_balansed.json'  # Путь к вашему файлу\n",
    "    model_name = \"qwen2.5:latest\"  # Модель Ollama\n",
    "\n",
    "    evaluate_bleu_with_ollama(file_path, model_name=model_name, limit=1709)"
   ]
  },
  {
   "cell_type": "code",
   "execution_count": null,
   "id": "a3441985-6f7b-4bee-9d7c-8bef1a31e726",
   "metadata": {},
   "outputs": [],
   "source": []
  }
 ],
 "metadata": {
  "kernelspec": {
   "display_name": "torch_ollama",
   "language": "python",
   "name": "torch_ollama"
  },
  "language_info": {
   "codemirror_mode": {
    "name": "ipython",
    "version": 3
   },
   "file_extension": ".py",
   "mimetype": "text/x-python",
   "name": "python",
   "nbconvert_exporter": "python",
   "pygments_lexer": "ipython3",
   "version": "3.12.3"
  }
 },
 "nbformat": 4,
 "nbformat_minor": 5
}
