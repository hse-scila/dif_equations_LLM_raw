{
 "cells": [
  {
   "cell_type": "code",
   "execution_count": 22,
   "id": "e790f886-6738-4717-80e6-5ad36edc427a",
   "metadata": {},
   "outputs": [
    {
     "name": "stdout",
     "output_type": "stream",
     "text": [
      "CUDA доступна: True\n",
      "Количество доступных GPU: 1\n",
      "Текущее устройство: 0\n",
      "Имя устройства: NVIDIA A100-SXM4-80GB\n",
      "🚀 Загружаем токенизатор и модель...\n",
      "Модель загружена на устройство: cuda:0\n",
      "🧠 Использовано GPU памяти: 15550.53 MB\n",
      "🛡 Зарезервировано GPU памяти: 19896.00 MB\n",
      "📚 Загружаем тестовые данные...\n"
     ]
    },
    {
     "name": "stderr",
     "output_type": "stream",
     "text": [
      "The following generation flags are not valid and may be ignored: ['temperature', 'top_p']. Set `TRANSFORMERS_VERBOSITY=info` for more details.\n"
     ]
    },
    {
     "name": "stdout",
     "output_type": "stream",
     "text": [
      "📄 Количество уравнений для решения: 1710\n",
      "⏱️ Время загрузки модели и данных: 70.21 секунд\n",
      "🔢 Общее количество батчей: 28\n",
      "📈 Решено: 62/1710 | ⏳ Время: 196.7c | 🚀 Скорость: 0.32 уравнений/с | 🕐 Осталось: 5229.2cc"
     ]
    },
    {
     "name": "stderr",
     "output_type": "stream",
     "text": [
      "The following generation flags are not valid and may be ignored: ['temperature', 'top_p']. Set `TRANSFORMERS_VERBOSITY=info` for more details.\n"
     ]
    },
    {
     "name": "stdout",
     "output_type": "stream",
     "text": [
      "\n",
      "⏱️ Время инференса батча: 196.27 секунд\n",
      "🧠 Использовано GPU памяти: 15550.53 MB\n",
      "🛡 Зарезервировано GPU памяти: 16666.00 MB\n",
      "====================================================================================================\n",
      "📈 Решено: 124/1710 | ⏳ Время: 392.1c | 🚀 Скорость: 0.32 уравнений/с | 🕐 Осталось: 5015.2c"
     ]
    },
    {
     "name": "stderr",
     "output_type": "stream",
     "text": [
      "The following generation flags are not valid and may be ignored: ['temperature', 'top_p']. Set `TRANSFORMERS_VERBOSITY=info` for more details.\n"
     ]
    },
    {
     "name": "stdout",
     "output_type": "stream",
     "text": [
      "\n",
      "⏱️ Время инференса батча: 195.27 секунд\n",
      "🧠 Использовано GPU памяти: 15550.53 MB\n",
      "🛡 Зарезервировано GPU памяти: 16666.00 MB\n",
      "====================================================================================================\n",
      "📈 Решено: 186/1710 | ⏳ Время: 589.6c | 🚀 Скорость: 0.32 уравнений/с | 🕐 Осталось: 4830.5c"
     ]
    },
    {
     "name": "stderr",
     "output_type": "stream",
     "text": [
      "The following generation flags are not valid and may be ignored: ['temperature', 'top_p']. Set `TRANSFORMERS_VERBOSITY=info` for more details.\n"
     ]
    },
    {
     "name": "stdout",
     "output_type": "stream",
     "text": [
      "\n",
      "⏱️ Время инференса батча: 197.34 секунд\n",
      "🧠 Использовано GPU памяти: 15550.53 MB\n",
      "🛡 Зарезервировано GPU памяти: 16666.00 MB\n",
      "====================================================================================================\n",
      "📈 Решено: 248/1710 | ⏳ Время: 782.9c | 🚀 Скорость: 0.32 уравнений/с | 🕐 Осталось: 4615.4c"
     ]
    },
    {
     "name": "stderr",
     "output_type": "stream",
     "text": [
      "The following generation flags are not valid and may be ignored: ['temperature', 'top_p']. Set `TRANSFORMERS_VERBOSITY=info` for more details.\n"
     ]
    },
    {
     "name": "stdout",
     "output_type": "stream",
     "text": [
      "\n",
      "⏱️ Время инференса батча: 193.25 секунд\n",
      "🧠 Использовано GPU памяти: 15550.53 MB\n",
      "🛡 Зарезервировано GPU памяти: 16666.00 MB\n",
      "====================================================================================================\n",
      "📈 Решено: 310/1710 | ⏳ Время: 978.1c | 🚀 Скорость: 0.32 уравнений/с | 🕐 Осталось: 4417.1c"
     ]
    },
    {
     "name": "stderr",
     "output_type": "stream",
     "text": [
      "The following generation flags are not valid and may be ignored: ['temperature', 'top_p']. Set `TRANSFORMERS_VERBOSITY=info` for more details.\n"
     ]
    },
    {
     "name": "stdout",
     "output_type": "stream",
     "text": [
      "\n",
      "⏱️ Время инференса батча: 195.05 секунд\n",
      "🧠 Использовано GPU памяти: 15550.53 MB\n",
      "🛡 Зарезервировано GPU памяти: 16666.00 MB\n",
      "====================================================================================================\n",
      "📈 Решено: 372/1710 | ⏳ Время: 1173.6c | 🚀 Скорость: 0.32 уравнений/с | 🕐 Осталось: 4221.2c"
     ]
    },
    {
     "name": "stderr",
     "output_type": "stream",
     "text": [
      "The following generation flags are not valid and may be ignored: ['temperature', 'top_p']. Set `TRANSFORMERS_VERBOSITY=info` for more details.\n"
     ]
    },
    {
     "name": "stdout",
     "output_type": "stream",
     "text": [
      "\n",
      "⏱️ Время инференса батча: 195.45 секунд\n",
      "🧠 Использовано GPU памяти: 15550.53 MB\n",
      "🛡 Зарезервировано GPU памяти: 16666.00 MB\n",
      "====================================================================================================\n",
      "📈 Решено: 434/1710 | ⏳ Время: 1366.7c | 🚀 Скорость: 0.32 уравнений/с | 🕐 Осталось: 4018.1c"
     ]
    },
    {
     "name": "stderr",
     "output_type": "stream",
     "text": [
      "The following generation flags are not valid and may be ignored: ['temperature', 'top_p']. Set `TRANSFORMERS_VERBOSITY=info` for more details.\n"
     ]
    },
    {
     "name": "stdout",
     "output_type": "stream",
     "text": [
      "\n",
      "⏱️ Время инференса батча: 192.89 секунд\n",
      "🧠 Использовано GPU памяти: 15550.53 MB\n",
      "🛡 Зарезервировано GPU памяти: 16666.00 MB\n",
      "====================================================================================================\n",
      "📈 Решено: 496/1710 | ⏳ Время: 1563.7c | 🚀 Скорость: 0.32 уравнений/с | 🕐 Осталось: 3827.3c"
     ]
    },
    {
     "name": "stderr",
     "output_type": "stream",
     "text": [
      "The following generation flags are not valid and may be ignored: ['temperature', 'top_p']. Set `TRANSFORMERS_VERBOSITY=info` for more details.\n"
     ]
    },
    {
     "name": "stdout",
     "output_type": "stream",
     "text": [
      "\n",
      "⏱️ Время инференса батча: 196.91 секунд\n",
      "🧠 Использовано GPU памяти: 15550.53 MB\n",
      "🛡 Зарезервировано GPU памяти: 16666.00 MB\n",
      "====================================================================================================\n",
      "📈 Решено: 558/1710 | ⏳ Время: 1760.0c | 🚀 Скорость: 0.32 уравнений/с | 🕐 Осталось: 3633.5c"
     ]
    },
    {
     "name": "stderr",
     "output_type": "stream",
     "text": [
      "The following generation flags are not valid and may be ignored: ['temperature', 'top_p']. Set `TRANSFORMERS_VERBOSITY=info` for more details.\n"
     ]
    },
    {
     "name": "stdout",
     "output_type": "stream",
     "text": [
      "\n",
      "⏱️ Время инференса батча: 196.18 секунд\n",
      "🧠 Использовано GPU памяти: 15550.53 MB\n",
      "🛡 Зарезервировано GPU памяти: 16666.00 MB\n",
      "====================================================================================================\n",
      "📈 Решено: 620/1710 | ⏳ Время: 1954.9c | 🚀 Скорость: 0.32 уравнений/с | 🕐 Осталось: 3436.8c"
     ]
    },
    {
     "name": "stderr",
     "output_type": "stream",
     "text": [
      "The following generation flags are not valid and may be ignored: ['temperature', 'top_p']. Set `TRANSFORMERS_VERBOSITY=info` for more details.\n"
     ]
    },
    {
     "name": "stdout",
     "output_type": "stream",
     "text": [
      "\n",
      "⏱️ Время инференса батча: 194.79 секунд\n",
      "🧠 Использовано GPU памяти: 15550.53 MB\n",
      "🛡 Зарезервировано GPU памяти: 16666.00 MB\n",
      "====================================================================================================\n",
      "📈 Решено: 682/1710 | ⏳ Время: 2149.4c | 🚀 Скорость: 0.32 уравнений/с | 🕐 Осталось: 3239.9c"
     ]
    },
    {
     "name": "stderr",
     "output_type": "stream",
     "text": [
      "The following generation flags are not valid and may be ignored: ['temperature', 'top_p']. Set `TRANSFORMERS_VERBOSITY=info` for more details.\n"
     ]
    },
    {
     "name": "stdout",
     "output_type": "stream",
     "text": [
      "\n",
      "⏱️ Время инференса батча: 194.38 секунд\n",
      "🧠 Использовано GPU памяти: 15550.53 MB\n",
      "🛡 Зарезервировано GPU памяти: 16666.00 MB\n",
      "====================================================================================================\n",
      "📈 Решено: 744/1710 | ⏳ Время: 2345.4c | 🚀 Скорость: 0.32 уравнений/с | 🕐 Осталось: 3045.3c"
     ]
    },
    {
     "name": "stderr",
     "output_type": "stream",
     "text": [
      "The following generation flags are not valid and may be ignored: ['temperature', 'top_p']. Set `TRANSFORMERS_VERBOSITY=info` for more details.\n"
     ]
    },
    {
     "name": "stdout",
     "output_type": "stream",
     "text": [
      "\n",
      "⏱️ Время инференса батча: 195.93 секунд\n",
      "🧠 Использовано GPU памяти: 15550.53 MB\n",
      "🛡 Зарезервировано GPU памяти: 16666.00 MB\n",
      "====================================================================================================\n",
      "📈 Решено: 806/1710 | ⏳ Время: 2544.1c | 🚀 Скорость: 0.32 уравнений/с | 🕐 Осталось: 2853.4c"
     ]
    },
    {
     "name": "stderr",
     "output_type": "stream",
     "text": [
      "The following generation flags are not valid and may be ignored: ['temperature', 'top_p']. Set `TRANSFORMERS_VERBOSITY=info` for more details.\n"
     ]
    },
    {
     "name": "stdout",
     "output_type": "stream",
     "text": [
      "\n",
      "⏱️ Время инференса батча: 198.53 секунд\n",
      "🧠 Использовано GPU памяти: 15550.53 MB\n",
      "🛡 Зарезервировано GPU памяти: 16666.00 MB\n",
      "====================================================================================================\n",
      "📈 Решено: 868/1710 | ⏳ Время: 2738.0c | 🚀 Скорость: 0.32 уравнений/с | 🕐 Осталось: 2656.0c"
     ]
    },
    {
     "name": "stderr",
     "output_type": "stream",
     "text": [
      "The following generation flags are not valid and may be ignored: ['temperature', 'top_p']. Set `TRANSFORMERS_VERBOSITY=info` for more details.\n"
     ]
    },
    {
     "name": "stdout",
     "output_type": "stream",
     "text": [
      "\n",
      "⏱️ Время инференса батча: 193.75 секунд\n",
      "🧠 Использовано GPU памяти: 15550.53 MB\n",
      "🛡 Зарезервировано GPU памяти: 16666.00 MB\n",
      "====================================================================================================\n",
      "📈 Решено: 930/1710 | ⏳ Время: 2930.6c | 🚀 Скорость: 0.32 уравнений/с | 🕐 Осталось: 2457.9c"
     ]
    },
    {
     "name": "stderr",
     "output_type": "stream",
     "text": [
      "The following generation flags are not valid and may be ignored: ['temperature', 'top_p']. Set `TRANSFORMERS_VERBOSITY=info` for more details.\n"
     ]
    },
    {
     "name": "stdout",
     "output_type": "stream",
     "text": [
      "\n",
      "⏱️ Время инференса батча: 192.47 секунд\n",
      "🧠 Использовано GPU памяти: 15550.53 MB\n",
      "🛡 Зарезервировано GPU памяти: 16666.00 MB\n",
      "====================================================================================================\n",
      "📈 Решено: 992/1710 | ⏳ Время: 3125.5c | 🚀 Скорость: 0.32 уравнений/с | 🕐 Осталось: 2262.2c"
     ]
    },
    {
     "name": "stderr",
     "output_type": "stream",
     "text": [
      "The following generation flags are not valid and may be ignored: ['temperature', 'top_p']. Set `TRANSFORMERS_VERBOSITY=info` for more details.\n"
     ]
    },
    {
     "name": "stdout",
     "output_type": "stream",
     "text": [
      "\n",
      "⏱️ Время инференса батча: 194.76 секунд\n",
      "🧠 Использовано GPU памяти: 15550.53 MB\n",
      "🛡 Зарезервировано GPU памяти: 16666.00 MB\n",
      "====================================================================================================\n",
      "📈 Решено: 1054/1710 | ⏳ Время: 3324.1c | 🚀 Скорость: 0.32 уравнений/с | 🕐 Осталось: 2068.9c"
     ]
    },
    {
     "name": "stderr",
     "output_type": "stream",
     "text": [
      "The following generation flags are not valid and may be ignored: ['temperature', 'top_p']. Set `TRANSFORMERS_VERBOSITY=info` for more details.\n"
     ]
    },
    {
     "name": "stdout",
     "output_type": "stream",
     "text": [
      "\n",
      "⏱️ Время инференса батча: 197.68 секунд\n",
      "🧠 Использовано GPU памяти: 15550.53 MB\n",
      "🛡 Зарезервировано GPU памяти: 16666.00 MB\n",
      "====================================================================================================\n",
      "📈 Решено: 1116/1710 | ⏳ Время: 3522.4c | 🚀 Скорость: 0.32 уравнений/с | 🕐 Осталось: 1874.8c\n",
      "⏱️ Время инференса батча: 198.04 секунд\n",
      "🧠 Использовано GPU памяти: 15550.53 MB\n",
      "🛡 Зарезервировано GPU памяти: 16666.00 MB\n",
      "====================================================================================================\n"
     ]
    },
    {
     "name": "stderr",
     "output_type": "stream",
     "text": [
      "The following generation flags are not valid and may be ignored: ['temperature', 'top_p']. Set `TRANSFORMERS_VERBOSITY=info` for more details.\n"
     ]
    },
    {
     "name": "stdout",
     "output_type": "stream",
     "text": [
      "📈 Решено: 1178/1710 | ⏳ Время: 3719.0c | 🚀 Скорость: 0.32 уравнений/с | 🕐 Осталось: 1679.5c"
     ]
    },
    {
     "name": "stderr",
     "output_type": "stream",
     "text": [
      "The following generation flags are not valid and may be ignored: ['temperature', 'top_p']. Set `TRANSFORMERS_VERBOSITY=info` for more details.\n"
     ]
    },
    {
     "name": "stdout",
     "output_type": "stream",
     "text": [
      "\n",
      "⏱️ Время инференса батча: 196.33 секунд\n",
      "🧠 Использовано GPU памяти: 15550.53 MB\n",
      "🛡 Зарезервировано GPU памяти: 16666.00 MB\n",
      "====================================================================================================\n",
      "📈 Решено: 1240/1710 | ⏳ Время: 3920.4c | 🚀 Скорость: 0.32 уравнений/с | 🕐 Осталось: 1486.0c\n",
      "⏱️ Время инференса батча: 200.58 секунд\n",
      "🧠 Использовано GPU памяти: 15550.53 MB\n",
      "🛡 Зарезервировано GPU памяти: 16666.00 MB\n",
      "====================================================================================================\n"
     ]
    },
    {
     "name": "stderr",
     "output_type": "stream",
     "text": [
      "The following generation flags are not valid and may be ignored: ['temperature', 'top_p']. Set `TRANSFORMERS_VERBOSITY=info` for more details.\n"
     ]
    },
    {
     "name": "stdout",
     "output_type": "stream",
     "text": [
      "📈 Решено: 1302/1710 | ⏳ Время: 4115.0c | 🚀 Скорость: 0.32 уравнений/с | 🕐 Осталось: 1289.5c"
     ]
    },
    {
     "name": "stderr",
     "output_type": "stream",
     "text": [
      "The following generation flags are not valid and may be ignored: ['temperature', 'top_p']. Set `TRANSFORMERS_VERBOSITY=info` for more details.\n"
     ]
    },
    {
     "name": "stdout",
     "output_type": "stream",
     "text": [
      "\n",
      "⏱️ Время инференса батча: 193.88 секунд\n",
      "🧠 Использовано GPU памяти: 15550.53 MB\n",
      "🛡 Зарезервировано GPU памяти: 16666.00 MB\n",
      "====================================================================================================\n",
      "📈 Решено: 1364/1710 | ⏳ Время: 4314.0c | 🚀 Скорость: 0.32 уравнений/с | 🕐 Осталось: 1094.3c"
     ]
    },
    {
     "name": "stderr",
     "output_type": "stream",
     "text": [
      "The following generation flags are not valid and may be ignored: ['temperature', 'top_p']. Set `TRANSFORMERS_VERBOSITY=info` for more details.\n"
     ]
    },
    {
     "name": "stdout",
     "output_type": "stream",
     "text": [
      "\n",
      "⏱️ Время инференса батча: 198.85 секунд\n",
      "🧠 Использовано GPU памяти: 15550.53 MB\n",
      "🛡 Зарезервировано GPU памяти: 16666.00 MB\n",
      "====================================================================================================\n",
      "📈 Решено: 1426/1710 | ⏳ Время: 4508.2c | 🚀 Скорость: 0.32 уравнений/с | 🕐 Осталось: 897.9cc"
     ]
    },
    {
     "name": "stderr",
     "output_type": "stream",
     "text": [
      "The following generation flags are not valid and may be ignored: ['temperature', 'top_p']. Set `TRANSFORMERS_VERBOSITY=info` for more details.\n"
     ]
    },
    {
     "name": "stdout",
     "output_type": "stream",
     "text": [
      "\n",
      "⏱️ Время инференса батча: 194.06 секунд\n",
      "🧠 Использовано GPU памяти: 15550.53 MB\n",
      "🛡 Зарезервировано GPU памяти: 16666.00 MB\n",
      "====================================================================================================\n",
      "📈 Решено: 1488/1710 | ⏳ Время: 4703.6c | 🚀 Скорость: 0.32 уравнений/с | 🕐 Осталось: 701.7c"
     ]
    },
    {
     "name": "stderr",
     "output_type": "stream",
     "text": [
      "The following generation flags are not valid and may be ignored: ['temperature', 'top_p']. Set `TRANSFORMERS_VERBOSITY=info` for more details.\n"
     ]
    },
    {
     "name": "stdout",
     "output_type": "stream",
     "text": [
      "\n",
      "⏱️ Время инференса батча: 195.25 секунд\n",
      "🧠 Использовано GPU памяти: 15550.53 MB\n",
      "🛡 Зарезервировано GPU памяти: 16666.00 MB\n",
      "====================================================================================================\n",
      "📈 Решено: 1550/1710 | ⏳ Время: 4898.7c | 🚀 Скорость: 0.32 уравнений/с | 🕐 Осталось: 505.7c"
     ]
    },
    {
     "name": "stderr",
     "output_type": "stream",
     "text": [
      "The following generation flags are not valid and may be ignored: ['temperature', 'top_p']. Set `TRANSFORMERS_VERBOSITY=info` for more details.\n"
     ]
    },
    {
     "name": "stdout",
     "output_type": "stream",
     "text": [
      "\n",
      "⏱️ Время инференса батча: 194.92 секунд\n",
      "🧠 Использовано GPU памяти: 15550.53 MB\n",
      "🛡 Зарезервировано GPU памяти: 16666.00 MB\n",
      "====================================================================================================\n",
      "📈 Решено: 1612/1710 | ⏳ Время: 5093.3c | 🚀 Скорость: 0.32 уравнений/с | 🕐 Осталось: 309.6c"
     ]
    },
    {
     "name": "stderr",
     "output_type": "stream",
     "text": [
      "The following generation flags are not valid and may be ignored: ['temperature', 'top_p']. Set `TRANSFORMERS_VERBOSITY=info` for more details.\n"
     ]
    },
    {
     "name": "stdout",
     "output_type": "stream",
     "text": [
      "\n",
      "⏱️ Время инференса батча: 194.40 секунд\n",
      "🧠 Использовано GPU памяти: 15550.53 MB\n",
      "🛡 Зарезервировано GPU памяти: 16666.00 MB\n",
      "====================================================================================================\n",
      "📈 Решено: 1674/1710 | ⏳ Время: 5291.0c | 🚀 Скорость: 0.32 уравнений/с | 🕐 Осталось: 113.8c"
     ]
    },
    {
     "name": "stderr",
     "output_type": "stream",
     "text": [
      "The following generation flags are not valid and may be ignored: ['temperature', 'top_p']. Set `TRANSFORMERS_VERBOSITY=info` for more details.\n"
     ]
    },
    {
     "name": "stdout",
     "output_type": "stream",
     "text": [
      "\n",
      "⏱️ Время инференса батча: 197.27 секунд\n",
      "🧠 Использовано GPU памяти: 15550.53 MB\n",
      "🛡 Зарезервировано GPU памяти: 16666.00 MB\n",
      "====================================================================================================\n",
      "📈 Решено: 1710/1710 | ⏳ Время: 5420.6c | 🚀 Скорость: 0.32 уравнений/с | 🕐 Осталось: 0.0ccc\n",
      "⏱️ Время инференса батча: 129.32 секунд\n",
      "🧠 Использовано GPU памяти: 15550.53 MB\n",
      "🛡 Зарезервировано GPU памяти: 16666.00 MB\n",
      "====================================================================================================\n",
      "\n",
      "📊 Статистика времени:\n",
      "⏱️ Общее время выполнения: 5420.89 секунд\n",
      "⏱️ Время загрузки модели и данных: 70.21 секунд\n",
      "⏱️ Среднее время обработки батча: 193.35 секунд\n",
      "⏱️ Среднее время обработки одного уравнения: 3.1701 секунд\n",
      "\n",
      "✅ Инференс завершен!\n"
     ]
    }
   ],
   "source": [
    "import torch\n",
    "import pandas as pd\n",
    "import time\n",
    "import warnings\n",
    "import json\n",
    "import sys\n",
    "from transformers import AutoModelForCausalLM, AutoTokenizer\n",
    "from torch.cuda.amp import autocast\n",
    "\n",
    "# ---------- Путь к локальной модели DeepSeek ----------\n",
    "MODEL_PATH = '/home/skoltsov/deepseek_1_5/deepseek_1_5_model/'\n",
    "\n",
    "# ---------- Параметры инференса ----------\n",
    "MAX_NEW_TOKENS = 3000\n",
    "BATCH_SIZE = 62\n",
    "test_percentage = 1\n",
    "MAX_LENGTH = 2000\n",
    "\n",
    "# ---------- Игнорирование предупреждений ----------\n",
    "warnings.filterwarnings(\"ignore\")\n",
    "\n",
    "# ---------- Оптимизация скорости ----------\n",
    "torch.backends.cudnn.benchmark = True\n",
    "\n",
    "# ---------- Проверка доступности GPU ----------\n",
    "if not torch.cuda.is_available():\n",
    "    raise RuntimeError(\"CUDA недоступна. Убедитесь, что GPU доступна и PyTorch установлен с поддержкой CUDA.\")\n",
    "\n",
    "print(\"CUDA доступна:\", torch.cuda.is_available())\n",
    "print(\"Количество доступных GPU:\", torch.cuda.device_count())\n",
    "print(\"Текущее устройство:\", torch.cuda.current_device())\n",
    "print(\"Имя устройства:\", torch.cuda.get_device_name(torch.cuda.current_device()))\n",
    "\n",
    "# ---------- Показ GPU памяти ----------\n",
    "def print_gpu_memory():\n",
    "    if torch.cuda.is_available():\n",
    "        print(f\"🧠 Использовано GPU памяти: {torch.cuda.memory_allocated() / (1024**2):.2f} MB\")\n",
    "        print(f\"🛡 Зарезервировано GPU памяти: {torch.cuda.memory_reserved() / (1024**2):.2f} MB\")\n",
    "    else:\n",
    "        print(\"CUDA недоступна.\")\n",
    "\n",
    "torch.cuda.empty_cache()\n",
    "\n",
    "# ---------- Измерение времени загрузки модели и данных ----------\n",
    "start_load_time = time.time()\n",
    "\n",
    "# ---------- Загрузка токенизатора и модели ----------\n",
    "print(\"🚀 Загружаем токенизатор и модель...\")\n",
    "\n",
    "tokenizer = AutoTokenizer.from_pretrained(\n",
    "    MODEL_PATH,\n",
    "    trust_remote_code=True,\n",
    "    padding_side=\"left\"\n",
    ")\n",
    "\n",
    "model = AutoModelForCausalLM.from_pretrained(\n",
    "    MODEL_PATH,\n",
    "    trust_remote_code=True,\n",
    "    torch_dtype=torch.float16\n",
    ").to(\"cuda\")  # Явное перемещение модели на GPU\n",
    "\n",
    "model.eval()\n",
    "\n",
    "print(f\"Модель загружена на устройство: {model.device}\")\n",
    "print_gpu_memory()\n",
    "\n",
    "# ---------- Загрузка тестовых данных ----------\n",
    "print(\"📚 Загружаем тестовые данные...\")\n",
    "path_file = r'/home/skoltsov/deepseek_1_5/data_balansed/test_x_balans1.xlsx'\n",
    "test_data = pd.read_excel(path_file)\n",
    "test_data = test_data.sample(frac=test_percentage, random_state=42).reset_index(drop=True)\n",
    "print(f'📄 Количество уравнений для решения: {len(test_data)}')\n",
    "\n",
    "end_load_time = time.time()\n",
    "load_time = end_load_time - start_load_time\n",
    "print(f\"⏱️ Время загрузки модели и данных: {load_time:.2f} секунд\")\n",
    "\n",
    "# ---------- Функция генерации промптов ----------\n",
    "def build_prompts(equations):\n",
    "    prompts = []\n",
    "    for eq in equations:\n",
    "        prompt = (\n",
    "            f'Solve the differential equation: {eq}. '\n",
    "            f'It is must to be provided the final decision in LaTeX format, final solution must be enclosed in \\\\boxed{{}}'\n",
    "        )\n",
    "        prompts.append(prompt)\n",
    "    return prompts\n",
    "\n",
    "# ---------- Функция решения уравнений батчем ----------\n",
    "def solve_equations_batch(equations_batch, max_new_tokens=MAX_NEW_TOKENS):\n",
    "    prompts = build_prompts(equations_batch)\n",
    "    \n",
    "    inputs = tokenizer(prompts, return_tensors=\"pt\", padding=True, truncation=True, max_length=MAX_LENGTH)\n",
    "    inputs = {k: v.to(model.device) for k, v in inputs.items()}  # Перемещение входных данных на GPU\n",
    "\n",
    "    start_time = time.time()\n",
    "\n",
    "    with torch.no_grad(), autocast():  # Автоматическое управление преобразованием в float16\n",
    "        outputs = model.generate(\n",
    "            **inputs,\n",
    "            max_new_tokens=max_new_tokens,\n",
    "            do_sample=False,\n",
    "            pad_token_id=tokenizer.eos_token_id,\n",
    "            use_cache=True\n",
    "        )\n",
    "\n",
    "    inference_time = time.time() - start_time\n",
    "\n",
    "    generated_texts = tokenizer.batch_decode(outputs, skip_special_tokens=True)\n",
    "\n",
    "    del inputs, outputs\n",
    "    torch.cuda.empty_cache()\n",
    "\n",
    "    return generated_texts, inference_time\n",
    "\n",
    "# ---------- Основной цикл обработки ----------\n",
    "output_filename = \"/home/skoltsov/deepseek_1_5/inference_results/deepseek_1_5_test_x_ballans_3000t.json\"\n",
    "results = []\n",
    "\n",
    "num_batches = (len(test_data) + BATCH_SIZE - 1) // BATCH_SIZE\n",
    "total_equations = len(test_data)\n",
    "\n",
    "print(f\"🔢 Общее количество батчей: {num_batches}\")\n",
    "\n",
    "start_global_time = time.time()\n",
    "current_equation_idx = 0\n",
    "\n",
    "batch_times = []  # Для сбора времени обработки каждого батча\n",
    "\n",
    "for batch_idx, start_idx in enumerate(range(0, total_equations, BATCH_SIZE)):\n",
    "    end_idx = min(start_idx + BATCH_SIZE, total_equations)\n",
    "    batch = test_data.iloc[start_idx:end_idx]\n",
    "    equations_batch = batch[\"equation\"].tolist()\n",
    "\n",
    "    solutions, inference_time = solve_equations_batch(equations_batch)\n",
    "    batch_times.append(inference_time)\n",
    "\n",
    "    for i, (eq, sol) in enumerate(zip(equations_batch, solutions)):\n",
    "        results.append({\n",
    "            \"equation\": eq,\n",
    "            \"true_answer\": batch.iloc[i].get('true_answer', ''),\n",
    "            \"generated_answer\": sol,\n",
    "            \"type_eq\": batch.iloc[i].get('type_eq', '')\n",
    "        })\n",
    "\n",
    "        current_equation_idx += 1\n",
    "        elapsed_time = time.time() - start_global_time\n",
    "        speed = current_equation_idx / elapsed_time\n",
    "        eta = (total_equations - current_equation_idx) / speed if speed > 0 else float('inf')\n",
    "\n",
    "        sys.stdout.write(\n",
    "            f\"\\r📈 Решено: {current_equation_idx}/{total_equations} | \"\n",
    "            f\"⏳ Время: {elapsed_time:.1f}c | 🚀 Скорость: {speed:.2f} уравнений/с | \"\n",
    "            f\"🕐 Осталось: {eta:.1f}c\"\n",
    "        )\n",
    "        sys.stdout.flush()\n",
    "\n",
    "    print(f\"\\n⏱️ Время инференса батча: {inference_time:.2f} секунд\")\n",
    "    print_gpu_memory()\n",
    "    print(\"=\" * 100)\n",
    "\n",
    "    with open(output_filename, \"w\", encoding=\"utf-8\") as f:\n",
    "        json.dump(results, f, ensure_ascii=False, indent=4)\n",
    "\n",
    "end_global_time = time.time()\n",
    "total_time = end_global_time - start_global_time\n",
    "\n",
    "# ---------- Вывод статистики времени ----------\n",
    "print(\"\\n📊 Статистика времени:\")\n",
    "print(f\"⏱️ Общее время выполнения: {total_time:.2f} секунд\")\n",
    "print(f\"⏱️ Время загрузки модели и данных: {load_time:.2f} секунд\")\n",
    "print(f\"⏱️ Среднее время обработки батча: {sum(batch_times) / len(batch_times):.2f} секунд\")\n",
    "print(f\"⏱️ Среднее время обработки одного уравнения: {total_time / total_equations:.4f} секунд\")\n",
    "\n",
    "print(\"\\n✅ Инференс завершен!\")"
   ]
  },
  {
   "cell_type": "code",
   "execution_count": null,
   "id": "168b50f7-dc85-4d42-94ba-d40e78bd0def",
   "metadata": {},
   "outputs": [],
   "source": []
  },
  {
   "cell_type": "code",
   "execution_count": null,
   "id": "ba6b1eeb-d699-4ad8-93d7-ef0c18549c27",
   "metadata": {},
   "outputs": [],
   "source": []
  }
 ],
 "metadata": {
  "kernelspec": {
   "display_name": "Python 3 (ipykernel)",
   "language": "python",
   "name": "python3"
  },
  "language_info": {
   "codemirror_mode": {
    "name": "ipython",
    "version": 3
   },
   "file_extension": ".py",
   "mimetype": "text/x-python",
   "name": "python",
   "nbconvert_exporter": "python",
   "pygments_lexer": "ipython3",
   "version": "3.12.2"
  }
 },
 "nbformat": 4,
 "nbformat_minor": 5
}
